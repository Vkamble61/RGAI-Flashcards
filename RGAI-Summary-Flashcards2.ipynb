{
 "cells": [
  {
   "cell_type": "code",
   "execution_count": 1,
   "id": "0f1da478-431b-462c-b8a1-cf9da30f95c3",
   "metadata": {},
   "outputs": [],
   "source": [
    "from openai import OpenAI\n",
    "from concurrent.futures import ThreadPoolExecutor"
   ]
  },
  {
   "cell_type": "code",
   "execution_count": null,
   "id": "e17305cc-af49-41e3-b895-c27785096709",
   "metadata": {},
   "outputs": [],
   "source": [
    "%pip install PyPDF2\n",
    "\n",
    "from tqdm import tqdm\n",
    "import concurrent\n",
    "import PyPDF2"
   ]
  },
  {
   "cell_type": "code",
   "execution_count": null,
   "id": "21c19b11-b380-4d06-be40-f8e6a1a94fd3",
   "metadata": {
    "scrolled": true
   },
   "outputs": [],
   "source": [
    "%pip install pandas\n",
    "\n",
    "import os\n",
    "import pandas as pd\n",
    "import base64"
   ]
  },
  {
   "cell_type": "code",
   "execution_count": 5,
   "id": "1e9d72eb-a112-4177-ba68-ca0a2648c024",
   "metadata": {},
   "outputs": [],
   "source": [
    "from dotenv import load_dotenv, find_dotenv\n",
    "#_ = load_dotenv(find_dotenv()) # read local .env file\n",
    "load_dotenv('openai.env')\n",
    "api_key =  os.environ.get('OPENAI_API_KEY')\n",
    "#client = OpenAI(api_key=os.getenv(\"OPENAI_API_KEY\"))\n",
    "client = OpenAI(api_key=api_key)"
   ]
  },
  {
   "cell_type": "code",
   "execution_count": 6,
   "id": "d8003b34-88ca-4199-ad4d-48624ebdb7cc",
   "metadata": {},
   "outputs": [],
   "source": [
    "dir_pdfs = 'input-data'\n",
    "pdf_files = [os.path.join(dir_pdfs, f) for f in os.listdir(dir_pdfs)]"
   ]
  },
  {
   "cell_type": "code",
   "execution_count": 8,
   "id": "e7ee998c-aadd-40f8-b683-1beaab5fc12a",
   "metadata": {},
   "outputs": [],
   "source": [
    "def upload_single_pdf(file_path: str, vector_store_id: str):\n",
    "    file_name = os.path.basename(file_path)\n",
    "    try:\n",
    "        file_response = client.files.create(file=open(file_path,'rb'),purpose=\"assistants\")\n",
    "        attach_response = client.vector_stores.files.create(\n",
    "            vector_store_id = vector_store_id,\n",
    "            file_id=file_response.id\n",
    "        )\n",
    "        return {\"file\":file_name, \"status\":\"success\"}\n",
    "    except Exception as e:\n",
    "        print(f\"Error with {file_name}: {str(e)}\")\n",
    "        return {\"file\":file_name, \"status\": \"failed\", \"error\":str(e)}"
   ]
  },
  {
   "cell_type": "code",
   "execution_count": 9,
   "id": "6a66a031-eb3e-4695-8395-4d18c0555b16",
   "metadata": {},
   "outputs": [],
   "source": [
    "def upload_pdf_files_to_vector_store(vector_store_id: str):\n",
    "    pdf_files = [os.path.join(dir_pdfs,f) for f in os.listdir(dir_pdfs)]\n",
    "    stats = {\"total_files\": len(pdf_files), \"successful_uploads\":0, \"failed_uploads\": 0, \"errors\": []}\n",
    "\n",
    "    print(f\"{len(pdf_files)} PDF files to process. Uploading in parallel...\")\n",
    "\n",
    "    with concurrent.futures.ThreadPoolExecutor(max_workers=10) as executor:\n",
    "        futures = {executor.submit(upload_single_pdf, file_path, vector_store_id): file_path for file_path in pdf_files}\n",
    "        for future in tqdm(concurrent.futures.as_completed(futures), total=len(pdf_files)):\n",
    "            result = future.result()\n",
    "            if result[\"status\"] == \"success\":\n",
    "                stats[\"successful_uploads\"] += 1\n",
    "            else:\n",
    "                stats[\"failed_uploads\"] += 1\n",
    "                stats[\"errors\"].append(result)\n",
    "\n",
    "    return stats"
   ]
  },
  {
   "cell_type": "code",
   "execution_count": 10,
   "id": "d6489735-a556-4c9c-941e-9d06683b06bd",
   "metadata": {},
   "outputs": [],
   "source": [
    "def create_vector_store(store_name:str) -> dict:\n",
    "    try:\n",
    "        vector_store = client.vector_stores.create(name=store_name)\n",
    "        details = {\n",
    "            \"id\": vector_store.id,\n",
    "            \"name\": vector_store.name,\n",
    "            \"created_at\": vector_store.created_at,\n",
    "            \"file_count\": vector_store.file_counts.completed\n",
    "        }\n",
    "        print(\"Vector store created:\", details)\n",
    "        return details\n",
    "    except Exception as e:\n",
    "        print(f\"Error creating vector store: {e}\")\n",
    "        return {}\n",
    "\n",
    "        "
   ]
  },
  {
   "cell_type": "code",
   "execution_count": 11,
   "id": "8f70e658-693d-46e8-b387-6fd206891165",
   "metadata": {
    "scrolled": true
   },
   "outputs": [
    {
     "name": "stdout",
     "output_type": "stream",
     "text": [
      "Vector store created: {'id': 'vs_6877db4d88888191a0847257286b6989', 'name': 'openai_blog_store', 'created_at': 1752685389, 'file_count': 0}\n",
      "1 PDF files to process. Uploading in parallel...\n"
     ]
    },
    {
     "name": "stderr",
     "output_type": "stream",
     "text": [
      "100%|██████████| 1/1 [00:02<00:00,  2.13s/it]\n"
     ]
    },
    {
     "data": {
      "text/plain": [
       "{'total_files': 1, 'successful_uploads': 1, 'failed_uploads': 0, 'errors': []}"
      ]
     },
     "execution_count": 11,
     "metadata": {},
     "output_type": "execute_result"
    }
   ],
   "source": [
    "store_name = \"openai_blog_store\"\n",
    "vector_store_details = create_vector_store(store_name)\n",
    "upload_pdf_files_to_vector_store(vector_store_details[\"id\"])"
   ]
  },
  {
   "cell_type": "code",
   "execution_count": 12,
   "id": "a4d6310e-7fb3-4dbb-b7dd-25ea9dc882e2",
   "metadata": {},
   "outputs": [],
   "source": [
    "query = \"What is geneative AI?\"\n",
    "search_results = client.vector_stores.search(\n",
    "    vector_store_id=vector_store_details['id'],\n",
    "    query=query\n",
    ")"
   ]
  },
  {
   "cell_type": "code",
   "execution_count": null,
   "id": "a02d365b-b784-41e5-acf3-fbe1e0ba664a",
   "metadata": {
    "scrolled": true
   },
   "outputs": [],
   "source": [
    "for result in search_results.data:\n",
    "    print(str(len(result.content[0].text)) + ' of character of content from ' + result.filename + ' with a relevant score of ' + str(result.score)) "
   ]
  },
  {
   "cell_type": "code",
   "execution_count": 14,
   "id": "ee5ac3c9-15d1-45ba-a016-db62d0a9c3e0",
   "metadata": {},
   "outputs": [],
   "source": [
    "response = client.responses.create(\n",
    "    input=query,\n",
    "    model=\"gpt-4.1-nano\",\n",
    "    tools=[{\n",
    "        \"type\": \"file_search\",\n",
    "        \"vector_store_ids\": [vector_store_details['id']],\n",
    "    }]\n",
    ")"
   ]
  },
  {
   "cell_type": "code",
   "execution_count": 15,
   "id": "3b35a8da-a851-495f-b613-e333a784d6c3",
   "metadata": {},
   "outputs": [
    {
     "name": "stdout",
     "output_type": "stream",
     "text": [
      "Files used: set()\n",
      "Response:\n",
      "Generative AI refers to a type of artificial intelligence designed to create new content, such as text, images, music, or other data, that is similar to human-produced content. It uses models like neural networks to learn patterns from existing data and then generate new, original output based on that learning . Do you want a more detailed explanation or examples of generative AI?\n"
     ]
    }
   ],
   "source": [
    "# Extract annotations from the response\n",
    "annotations = response.output[0].content[0].annotations\n",
    "\n",
    "# Get top-k retrieved filenames\n",
    "retrieved_files = set([result.filename for result in annotations])\n",
    "\n",
    "print(f'Files used: {retrieved_files}')\n",
    "print('Response:')\n",
    "print(response.output[0].content[0].text)  # 0 being the filesearch call"
   ]
  },
  {
   "cell_type": "code",
   "execution_count": null,
   "id": "b24408f0-38dd-457c-a9c7-d211aa81f70a",
   "metadata": {},
   "outputs": [],
   "source": [
    "%pip install langchain-community"
   ]
  },
  {
   "cell_type": "code",
   "execution_count": 17,
   "id": "61c8ccda-e906-4832-9ef4-7262e8837f95",
   "metadata": {},
   "outputs": [],
   "source": [
    "#pdf_path =\"input-data\\introduction-to-genai.pdf\"\n",
    "def extract_text_from_pdf(pdf_path):\n",
    "    text = \"\"\n",
    "    try:\n",
    "        with open(pdf_path, \"rb\") as f:\n",
    "            reader = PyPDF2.PdfReader(f)\n",
    "            for page in reader.pages:\n",
    "                page_text = page.extract_text()\n",
    "                if page_text:\n",
    "                    text += page_text\n",
    "    except Exception as e:\n",
    "        print(f\"Error reading {pdf_path}: {e}\")\n",
    "    return text\n",
    "    "
   ]
  },
  {
   "cell_type": "code",
   "execution_count": null,
   "id": "b41a3311-d701-42b1-931e-7f2a589940dc",
   "metadata": {},
   "outputs": [],
   "source": [
    "from pydantic import BaseModel, Field\n",
    "from instructor import OpenAISchema\n",
    "import instructor\n",
    "from langchain_openai import ChatOpenAI  # <-- Add this import\n",
    "from langchain_text_splitters import RecursiveCharacterTextSplitter\n",
    "\n",
    "class Flashcard(BaseModel):\n",
    "    question: str = Field(..., description=\"Challenging question about the content\")\n",
    "    answer: str = Field(..., description=\"Compact answer explaining the concept\")\n",
    "    #answer: str = Field(..., description=\"Detailed answer explaining the concept\")\n",
    "    #difficulty: int = Field(..., ge=1, le=5, description=\"Difficulty rating 1-5\")\n",
    "all_flashcards = []\n",
    "\n",
    "def generate_flashcards(pdf_path: str) -> list[Flashcard]:\n",
    "    text = extract_text_from_pdf(pdf_path)\n",
    "\n",
    "    text_splitter = RecursiveCharacterTextSplitter(\n",
    "    chunk_size=1000,\n",
    "    chunk_overlap=200,\n",
    "    separators=[\"\\n\\n\", \"\\n\", \" \", \"\"]\n",
    "    )\n",
    "\n",
    "    chunks = text_splitter.split_text(text)\n",
    "    \n",
    "    for chunk in chunks:\n",
    "        try:\n",
    "            flashcards = generate_cards(chunk)\n",
    "            flashcard_tuple = (flashcards.question, flashcards.answer)\n",
    "            all_flashcards.append(flashcard_tuple)\n",
    "        except Exception as e:\n",
    "            print(f\"Error generating flashcards for chunk: {e}\")\n",
    "            if \"insufficient_quota\" in str(e):\n",
    "                print(\"You have exceeded your OpenAI API quota. Please check your plan and billing details.\")\n",
    "            break  # Stop further processing if quota is exceeded\n",
    "    return all_flashcards\n",
    "\n",
    "def generate_cards(chunk: str) -> Flashcard:\n",
    "    client = instructor.patch(OpenAI())\n",
    "    return client.chat.completions.create(\n",
    "        model=\"gpt-4.1-nano\",\n",
    "        messages=[{\n",
    "            \"role\": \"user\",\n",
    "            \"content\": f\"Generate flashcards from this text: {chunk}\"\n",
    "        }],\n",
    "        tools=[{\n",
    "            \"type\": \"file_search\",\n",
    "            \"vector_store_ids\": [vector_store_details['id']],\n",
    "        }],\n",
    "        response_model=Flashcard,\n",
    "        max_retries=2\n",
    "    )\n"
   ]
  },
  {
   "cell_type": "code",
   "execution_count": 21,
   "id": "1a0122e4",
   "metadata": {},
   "outputs": [],
   "source": [
    "flashcards_dict = {}\n",
    "for pdf_path in pdf_files:\n",
    "    flashcards = generate_flashcards(pdf_path)\n",
    "    #print(all_flashcards)\n",
    "    flashcards_dict[os.path.basename(pdf_path)] = flashcards"
   ]
  },
  {
   "cell_type": "code",
   "execution_count": 24,
   "id": "922357ff-3a44-43c1-bf49-7e5e364ee51b",
   "metadata": {},
   "outputs": [
    {
     "name": "stdout",
     "output_type": "stream",
     "text": [
      "Generated 12 flashcards:\n",
      "\n",
      "|    | Question                                                                   | Answer                                                                                                                                                         |\n",
      "|---:|:---------------------------------------------------------------------------|:---------------------------------------------------------------------------------------------------------------------------------------------------------------|\n",
      "| 11 | What are AI chatbots and give some examples?                               | AI chatbots are computer programs that simulate human conversation, with examples including Google Bard and Microsoft CoPilot.                                 |\n",
      "|  4 | What was the increase in generative AI models from late 2022 to June 2023? | Generative AI increased from just under 2,000 in late 2022 to nearly 14,000 by June 2023.                                                                      |\n",
      "|  5 | What are AI chatbots and can you give examples?                            | AI chatbots are conversational agents that interact with users through natural language processing, with examples including Google Bard and Microsoft CoPilot. |\n"
     ]
    }
   ],
   "source": [
    "import pandas as pd\n",
    "for item in flashcards_dict:\n",
    "    # If tuple (question, answer), extract by index\n",
    "    df = pd.DataFrame([{\"Question\": fc[0], \"Answer\": fc[1]} for fc in flashcards_dict[item]])\n",
    "    print(f\"Generated {len(df)} flashcards:\\n\")\n",
    "    print(df.sample(min(3, len(df))).to_markdown())\n",
    "\n",
    "    # Save to JSON\n",
    "    df.to_json(\"flashcards_new.json\", orient=\"records\", indent=2, lines=False)"
   ]
  },
  {
   "cell_type": "code",
   "execution_count": 23,
   "id": "7e6ce7f2-13d2-4713-a6f2-05556bb34da0",
   "metadata": {},
   "outputs": [
    {
     "name": "stdout",
     "output_type": "stream",
     "text": [
      "{'introduction-to-genai.pdf': [('What is Generative AI and when did it gain '\n",
      "                                'prominence?',\n",
      "                                'Generative AI, or Gen AI, is a relatively new '\n",
      "                                'form of AI that became prominent in late 2022 '\n",
      "                                'with the release of ChatGPT, a sophisticated '\n",
      "                                'AI chatbot.'),\n",
      "                               ('What significant role did AI chatbots like '\n",
      "                                'ChatGPT, Google Bard, and Microsoft Copilot '\n",
      "                                'released in 2023 play in public awareness?',\n",
      "                                'They exposed the power and potential of AI to '\n",
      "                                'corporate businesses and the general public.'),\n",
      "                               ('What are some outputs and tasks that '\n",
      "                                'generative AI foundation models can achieve?',\n",
      "                                'Outputs include text, computer code, images, '\n",
      "                                'and video. Tasks include producing marketing '\n",
      "                                'and advertising material, website building, '\n",
      "                                'video editing, and document summarisation.'),\n",
      "                               ('What was the amount of venture capital '\n",
      "                                'investment in generative AI solutions in the '\n",
      "                                'first half of 2023?',\n",
      "                                '$12 billion (USD).'),\n",
      "                               ('What was the increase in generative AI models '\n",
      "                                'from late 2022 to June 2023?',\n",
      "                                'Generative AI increased from just under 2,000 '\n",
      "                                'in late 2022 to nearly 14,000 by June 2023.'),\n",
      "                               ('What are AI chatbots and can you give '\n",
      "                                'examples?',\n",
      "                                'AI chatbots are conversational agents that '\n",
      "                                'interact with users through natural language '\n",
      "                                'processing, with examples including Google '\n",
      "                                'Bard and Microsoft CoPilot.'),\n",
      "                               ('What is Generative AI (Gen AI) and when did '\n",
      "                                'it become prominent?',\n",
      "                                'Generative AI (Gen AI) is a recent form of AI '\n",
      "                                'that gained global attention in late 2022 '\n",
      "                                'with the release of ChatGPT, a sophisticated '\n",
      "                                'AI chatbot.'),\n",
      "                               ('What are AI chatbots, and which examples were '\n",
      "                                'released in 2023?',\n",
      "                                'AI chatbots are powered by generative AI, '\n",
      "                                'capable of creating new content like text, '\n",
      "                                'images, video, and audio from user prompts. '\n",
      "                                'Examples released in 2023 include ChatGPT, '\n",
      "                                'Google Bard, and Microsoft Copilot.'),\n",
      "                               ('What are some outputs and tasks that '\n",
      "                                'generative AI foundation models can achieve?',\n",
      "                                'Outputs include text, computer code, images, '\n",
      "                                'and videos. Tasks include producing marketing '\n",
      "                                'and advertising material, website building, '\n",
      "                                'video editing, and document summarisation.'),\n",
      "                               ('What was the amount of capital (VC) '\n",
      "                                'investment in generative AI solutions in the '\n",
      "                                'first half of 2023?',\n",
      "                                '$12 billion (USD)'),\n",
      "                               ('What is the trend in the number of generative '\n",
      "                                'AI entities from late 2022 to mid-2023?',\n",
      "                                'The number of generative AI increased from '\n",
      "                                'just under 2000 in late 2022 to nearly 14,000 '\n",
      "                                'by June 2023.'),\n",
      "                               ('What are AI chatbots and give some examples?',\n",
      "                                'AI chatbots are computer programs that '\n",
      "                                'simulate human conversation, with examples '\n",
      "                                'including Google Bard and Microsoft '\n",
      "                                'CoPilot.')]}\n"
     ]
    }
   ],
   "source": [
    "from pprint import pprint\n",
    "\n",
    "pprint(flashcards_dict)"
   ]
  }
 ],
 "metadata": {
  "kernelspec": {
   "display_name": "base",
   "language": "python",
   "name": "python3"
  },
  "language_info": {
   "codemirror_mode": {
    "name": "ipython",
    "version": 3
   },
   "file_extension": ".py",
   "mimetype": "text/x-python",
   "name": "python",
   "nbconvert_exporter": "python",
   "pygments_lexer": "ipython3",
   "version": "3.12.7"
  }
 },
 "nbformat": 4,
 "nbformat_minor": 5
}
